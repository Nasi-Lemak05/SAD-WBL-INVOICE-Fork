{
 "cells": [
  {
   "cell_type": "code",
   "execution_count": 26,
   "metadata": {},
   "outputs": [],
   "source": [
    "code = [ 34, 3434, 99, 50, 6]\n",
    "text = [ 'rit' , 'me', 'hon','bip']\n",
    "score = [ 90, 80, 'abs', None, 70 ]\n",
    "my = None"
   ]
  },
  {
   "cell_type": "code",
   "execution_count": null,
   "metadata": {},
   "outputs": [],
   "source": [
    "type(my)\n",
    "type(code[2])\n",
    "type(text[-3])"
   ]
  },
  {
   "cell_type": "code",
   "execution_count": 10,
   "metadata": {},
   "outputs": [],
   "source": [
    "tot =0\n",
    "def suma(a):\n",
    "    if a == int :\n",
    "        tot+=a"
   ]
  },
  {
   "cell_type": "code",
   "execution_count": 5,
   "metadata": {},
   "outputs": [
    {
     "data": {
      "text/plain": [
       "3623"
      ]
     },
     "execution_count": 5,
     "metadata": {},
     "output_type": "execute_result"
    }
   ],
   "source": [
    "sum(code)"
   ]
  },
  {
   "cell_type": "code",
   "execution_count": null,
   "metadata": {},
   "outputs": [
    {
     "ename": "SyntaxError",
     "evalue": "cannot assign to literal (3212988812.py, line 4)",
     "output_type": "error",
     "traceback": [
      "  \u001b[36mCell\u001b[39m\u001b[36m \u001b[39m\u001b[32mIn[34]\u001b[39m\u001b[32m, line 4\u001b[39m\n\u001b[31m    \u001b[39m\u001b[31mfor 0 in 5 :\u001b[39m\n        ^\n\u001b[31mSyntaxError\u001b[39m\u001b[31m:\u001b[39m cannot assign to literal\n"
     ]
    }
   ],
   "source": [
    "total = 0\n",
    "def sumlist(a):\n",
    "    if type(a)==int:\n",
    "        for 0 in 5 :\n",
    "         total+=a\n",
    "         print(f'sum of  {a} with {total - a} is = {total}')\n",
    "\n",
    "total"
   ]
  },
  {
   "cell_type": "code",
   "execution_count": 38,
   "metadata": {},
   "outputs": [],
   "source": [
    "total = 0\n",
    "\n",
    "def sumlist(lst):\n",
    "    global total\n",
    "    for a in lst:   # Loop through the list\n",
    "        if isinstance(a, int):  # Only add if the element is an integer\n",
    "            for _ in range(5):  # Add each number 5 times\n",
    "                total += a\n",
    "                print(f'sum of {a} with {total - a} is = {total}')\n"
   ]
  },
  {
   "cell_type": "code",
   "execution_count": 39,
   "metadata": {},
   "outputs": [
    {
     "name": "stdout",
     "output_type": "stream",
     "text": [
      "sum of 34 with 0 is = 34\n",
      "sum of 34 with 34 is = 68\n",
      "sum of 34 with 68 is = 102\n",
      "sum of 34 with 102 is = 136\n",
      "sum of 34 with 136 is = 170\n",
      "sum of 3434 with 170 is = 3604\n",
      "sum of 3434 with 3604 is = 7038\n",
      "sum of 3434 with 7038 is = 10472\n",
      "sum of 3434 with 10472 is = 13906\n",
      "sum of 3434 with 13906 is = 17340\n",
      "sum of 99 with 17340 is = 17439\n",
      "sum of 99 with 17439 is = 17538\n",
      "sum of 99 with 17538 is = 17637\n",
      "sum of 99 with 17637 is = 17736\n",
      "sum of 99 with 17736 is = 17835\n",
      "sum of 50 with 17835 is = 17885\n",
      "sum of 50 with 17885 is = 17935\n",
      "sum of 50 with 17935 is = 17985\n",
      "sum of 50 with 17985 is = 18035\n",
      "sum of 50 with 18035 is = 18085\n",
      "sum of 6 with 18085 is = 18091\n",
      "sum of 6 with 18091 is = 18097\n",
      "sum of 6 with 18097 is = 18103\n",
      "sum of 6 with 18103 is = 18109\n",
      "sum of 6 with 18109 is = 18115\n"
     ]
    }
   ],
   "source": [
    "sumlist(code)"
   ]
  }
 ],
 "metadata": {
  "kernelspec": {
   "display_name": "pr-venv",
   "language": "python",
   "name": "python3"
  },
  "language_info": {
   "codemirror_mode": {
    "name": "ipython",
    "version": 3
   },
   "file_extension": ".py",
   "mimetype": "text/x-python",
   "name": "python",
   "nbconvert_exporter": "python",
   "pygments_lexer": "ipython3",
   "version": "3.13.2"
  }
 },
 "nbformat": 4,
 "nbformat_minor": 2
}
