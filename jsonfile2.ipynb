{
 "cells": [
  {
   "cell_type": "code",
   "execution_count": 1,
   "metadata": {},
   "outputs": [],
   "source": [
    "import json"
   ]
  },
  {
   "cell_type": "code",
   "execution_count": 2,
   "metadata": {},
   "outputs": [
    {
     "data": {
      "text/plain": [
       "<_io.TextIOWrapper name='data/retail_db/schemas.json' mode='r' encoding='cp1252'>"
      ]
     },
     "execution_count": 2,
     "metadata": {},
     "output_type": "execute_result"
    }
   ],
   "source": [
    "open('data/retail_db/schemas.json')"
   ]
  },
  {
   "cell_type": "code",
   "execution_count": 3,
   "metadata": {},
   "outputs": [],
   "source": [
    "with open('data/retail_db/schemas.json') as  files :\n",
    "    y = json.load(files)"
   ]
  },
  {
   "cell_type": "code",
   "execution_count": 4,
   "metadata": {},
   "outputs": [
    {
     "data": {
      "text/plain": [
       "{'departments': [{'column_name': 'department_id',\n",
       "   'data_type': 'integer',\n",
       "   'column_position': 1},\n",
       "  {'column_name': 'department_name',\n",
       "   'data_type': 'string',\n",
       "   'column_position': 2}],\n",
       " 'categories': [{'column_name': 'category_id',\n",
       "   'data_type': 'integer',\n",
       "   'column_position': 1},\n",
       "  {'column_name': 'category_department_id',\n",
       "   'data_type': 'integer',\n",
       "   'column_position': 2},\n",
       "  {'column_name': 'category_name',\n",
       "   'data_type': 'string',\n",
       "   'column_position': 3}],\n",
       " 'orders': [{'column_name': 'order_id',\n",
       "   'data_type': 'integer',\n",
       "   'column_position': 1},\n",
       "  {'column_name': 'order_date', 'data_type': 'string', 'column_position': 2},\n",
       "  {'column_name': 'order_customer_id',\n",
       "   'data_type': 'timestamp',\n",
       "   'column_position': 3},\n",
       "  {'column_name': 'order_status',\n",
       "   'data_type': 'string',\n",
       "   'column_position': 4}],\n",
       " 'products': [{'column_name': 'product_id',\n",
       "   'data_type': 'integer',\n",
       "   'column_position': 1},\n",
       "  {'column_name': 'product_cateogry_id',\n",
       "   'data_type': 'integer',\n",
       "   'column_position': 2},\n",
       "  {'column_name': 'product_name', 'data_type': '', 'column_position': 3},\n",
       "  {'column_name': 'product_description',\n",
       "   'data_type': 'string',\n",
       "   'column_position': 4},\n",
       "  {'column_name': 'product_price', 'data_type': 'float', 'column_position': 5},\n",
       "  {'column_name': 'product_image',\n",
       "   'data_type': 'string',\n",
       "   'column_position': 6}],\n",
       " 'customers': [{'column_name': 'customer_id',\n",
       "   'data_type': 'integer',\n",
       "   'column_position': 1},\n",
       "  {'column_name': 'customer_fname',\n",
       "   'data_type': 'string',\n",
       "   'column_position': 2},\n",
       "  {'column_name': 'customer_lname',\n",
       "   'data_type': 'string',\n",
       "   'column_position': 3},\n",
       "  {'column_name': 'customer_email',\n",
       "   'data_type': 'string',\n",
       "   'column_position': 4},\n",
       "  {'column_name': 'customer_password',\n",
       "   'data_type': 'string',\n",
       "   'column_position': 5},\n",
       "  {'column_name': 'customer_street',\n",
       "   'data_type': 'string',\n",
       "   'column_position': 6},\n",
       "  {'column_name': 'customer_city',\n",
       "   'data_type': 'string',\n",
       "   'column_position': 7},\n",
       "  {'column_name': 'customer_state',\n",
       "   'data_type': 'string',\n",
       "   'column_position': 8},\n",
       "  {'column_name': 'customer_zipcode',\n",
       "   'data_type': 'integer',\n",
       "   'column_position': 9}],\n",
       " 'order_items': [{'column_name': 'order_item_id',\n",
       "   'data_type': 'integer',\n",
       "   'column_position': 1},\n",
       "  {'column_name': 'order_item_order_id',\n",
       "   'data_type': 'integer',\n",
       "   'column_position': 2},\n",
       "  {'column_name': 'order_item_product_id',\n",
       "   'data_type': 'integer',\n",
       "   'column_position': 3},\n",
       "  {'column_name': 'order_item_quantity',\n",
       "   'data_type': 'integer',\n",
       "   'column_position': 4},\n",
       "  {'column_name': 'order_item_subtotal',\n",
       "   'data_type': 'float',\n",
       "   'column_position': 5},\n",
       "  {'column_name': 'order_item_product_price',\n",
       "   'data_type': 'float',\n",
       "   'column_position': 6}]}"
      ]
     },
     "execution_count": 4,
     "metadata": {},
     "output_type": "execute_result"
    }
   ],
   "source": [
    "y"
   ]
  },
  {
   "cell_type": "code",
   "execution_count": 5,
   "metadata": {},
   "outputs": [
    {
     "data": {
      "text/plain": [
       "[{'column_name': 'order_item_id',\n",
       "  'data_type': 'integer',\n",
       "  'column_position': 1},\n",
       " {'column_name': 'order_item_order_id',\n",
       "  'data_type': 'integer',\n",
       "  'column_position': 2},\n",
       " {'column_name': 'order_item_product_id',\n",
       "  'data_type': 'integer',\n",
       "  'column_position': 3},\n",
       " {'column_name': 'order_item_quantity',\n",
       "  'data_type': 'integer',\n",
       "  'column_position': 4},\n",
       " {'column_name': 'order_item_subtotal',\n",
       "  'data_type': 'float',\n",
       "  'column_position': 5},\n",
       " {'column_name': 'order_item_product_price',\n",
       "  'data_type': 'float',\n",
       "  'column_position': 6}]"
      ]
     },
     "execution_count": 5,
     "metadata": {},
     "output_type": "execute_result"
    }
   ],
   "source": [
    "y['order_items']"
   ]
  },
  {
   "cell_type": "code",
   "execution_count": 6,
   "metadata": {},
   "outputs": [],
   "source": [
    "orderdetails = y['order_items']"
   ]
  },
  {
   "cell_type": "code",
   "execution_count": 7,
   "metadata": {},
   "outputs": [
    {
     "data": {
      "text/plain": [
       "'order_item_product_id'"
      ]
     },
     "execution_count": 7,
     "metadata": {},
     "output_type": "execute_result"
    }
   ],
   "source": [
    "orderdetails[2]['column_name']"
   ]
  },
  {
   "cell_type": "code",
   "execution_count": 8,
   "metadata": {},
   "outputs": [
    {
     "data": {
      "text/plain": [
       "['order_item_id',\n",
       " 'order_item_order_id',\n",
       " 'order_item_product_id',\n",
       " 'order_item_quantity',\n",
       " 'order_item_subtotal',\n",
       " 'order_item_product_price']"
      ]
     },
     "execution_count": 8,
     "metadata": {},
     "output_type": "execute_result"
    }
   ],
   "source": [
    "[col['column_name'] for col in orderdetails]"
   ]
  },
  {
   "cell_type": "code",
   "execution_count": 9,
   "metadata": {},
   "outputs": [
    {
     "data": {
      "text/plain": [
       "['order_item_id',\n",
       " 'order_item_order_id',\n",
       " 'order_item_product_id',\n",
       " 'order_item_quantity',\n",
       " 'order_item_subtotal',\n",
       " 'order_item_product_price']"
      ]
     },
     "execution_count": 9,
     "metadata": {},
     "output_type": "execute_result"
    }
   ],
   "source": [
    "list(map(lambda x : x['column_name'] , orderdetails))"
   ]
  },
  {
   "cell_type": "code",
   "execution_count": 12,
   "metadata": {},
   "outputs": [
    {
     "data": {
      "text/plain": [
       "{'column_name': 'order_item_order_id',\n",
       " 'data_type': 'integer',\n",
       " 'column_position': 2}"
      ]
     },
     "execution_count": 12,
     "metadata": {},
     "output_type": "execute_result"
    }
   ],
   "source": [
    "y['order_items'][1]"
   ]
  },
  {
   "cell_type": "code",
   "execution_count": 16,
   "metadata": {},
   "outputs": [
    {
     "data": {
      "text/plain": [
       "[{'column_name': 'order_item_id',\n",
       "  'data_type': 'integer',\n",
       "  'column_position': 1},\n",
       " {'column_name': 'order_item_order_id',\n",
       "  'data_type': 'integer',\n",
       "  'column_position': 2},\n",
       " {'column_name': 'order_item_product_id',\n",
       "  'data_type': 'integer',\n",
       "  'column_position': 3},\n",
       " {'column_name': 'order_item_quantity',\n",
       "  'data_type': 'integer',\n",
       "  'column_position': 4},\n",
       " {'column_name': 'order_item_subtotal',\n",
       "  'data_type': 'float',\n",
       "  'column_position': 5},\n",
       " {'column_name': 'order_item_product_price',\n",
       "  'data_type': 'float',\n",
       "  'column_position': 6}]"
      ]
     },
     "execution_count": 16,
     "metadata": {},
     "output_type": "execute_result"
    }
   ],
   "source": [
    "sorted(orderdetails, key=lambda x:x[sorts])"
   ]
  },
  {
   "cell_type": "code",
   "execution_count": null,
   "metadata": {},
   "outputs": [],
   "source": [
    "y.keys()\n",
    "list(y.keys())[2]\n",
    "y.keys()"
   ]
  },
  {
   "cell_type": "code",
   "execution_count": 49,
   "metadata": {},
   "outputs": [
    {
     "data": {
      "text/plain": [
       "[{'column_name': 'order_id', 'data_type': 'integer', 'column_position': 1},\n",
       " {'column_name': 'order_date', 'data_type': 'string', 'column_position': 2},\n",
       " {'column_name': 'order_customer_id',\n",
       "  'data_type': 'timestamp',\n",
       "  'column_position': 3},\n",
       " {'column_name': 'order_status', 'data_type': 'string', 'column_position': 4}]"
      ]
     },
     "execution_count": 49,
     "metadata": {},
     "output_type": "execute_result"
    }
   ],
   "source": [
    "y['orders']"
   ]
  },
  {
   "cell_type": "code",
   "execution_count": 37,
   "metadata": {},
   "outputs": [],
   "source": [
    "sorts=input(\"sort keys\")"
   ]
  },
  {
   "cell_type": "code",
   "execution_count": 50,
   "metadata": {},
   "outputs": [],
   "source": [
    "def coldetails(y, name, sorts):\n",
    "    det = y[name]\n",
    "    colum = sorted(det, key=lambda x : x[sorts] )\n",
    "    return [x['column_name'] for x in colum]"
   ]
  },
  {
   "cell_type": "code",
   "execution_count": 57,
   "metadata": {},
   "outputs": [
    {
     "data": {
      "text/plain": [
       "['order_id', 'order_date', 'order_status', 'order_customer_id']"
      ]
     },
     "execution_count": 57,
     "metadata": {},
     "output_type": "execute_result"
    }
   ],
   "source": [
    "coldetails(y, 'orders', 'data_type')"
   ]
  },
  {
   "cell_type": "code",
   "execution_count": 58,
   "metadata": {},
   "outputs": [],
   "source": [
    "def coldetails(y, name, sorting_key='column_position'):\n",
    "    det = y[name]\n",
    "    colum = sorted(det, key=lambda x : x[sorting_key] )\n",
    "    return [x['column_name'] for x in colum]"
   ]
  },
  {
   "cell_type": "code",
   "execution_count": 59,
   "metadata": {},
   "outputs": [
    {
     "data": {
      "text/plain": [
       "['order_id', 'order_date', 'order_customer_id', 'order_status']"
      ]
     },
     "execution_count": 59,
     "metadata": {},
     "output_type": "execute_result"
    }
   ],
   "source": [
    "coldetails(y, 'orders')"
   ]
  }
 ],
 "metadata": {
  "kernelspec": {
   "display_name": "pr-venv",
   "language": "python",
   "name": "python3"
  },
  "language_info": {
   "codemirror_mode": {
    "name": "ipython",
    "version": 3
   },
   "file_extension": ".py",
   "mimetype": "text/x-python",
   "name": "python",
   "nbconvert_exporter": "python",
   "pygments_lexer": "ipython3",
   "version": "3.13.2"
  }
 },
 "nbformat": 4,
 "nbformat_minor": 2
}
