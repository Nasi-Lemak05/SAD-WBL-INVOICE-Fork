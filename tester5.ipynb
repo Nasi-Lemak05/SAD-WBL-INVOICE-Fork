{
 "cells": [
  {
   "cell_type": "code",
   "execution_count": null,
   "metadata": {},
   "outputs": [],
   "source": [
    "orders = [\n",
    "    '1,2013-07-25 00:00:00.0,11599,CLOSED',\n",
    "    '2,2013-07-25 00:00:00.0,256,PENDING_PAYMENT',\n",
    "    '3,2013-07-25 00:00:00.0,12111,COMPLETE',\n",
    "    '4,2013-07-25 00:00:00.0,8827,CLOSED',\n",
    "    '5,2013-07-25 00:00:00.0,11318,COMPLETE',\n",
    "    '6,2013-07-25 00:00:00.0,7130,COMPLETE',\n",
    "    '7,2013-07-25 00:00:00.0,4530,COMPLETE',\n",
    "    '8,2013-07-25 00:00:00.0,2911,PROCESSING',\n",
    "    '9,2013-07-25 00:00:00.0,5657,PENDING_PAYMENT',\n",
    "    '10,2013-07-25 00:00:00.0,5648,PENDING_PAYMENT'\n",
    "]"
   ]
  },
  {
   "cell_type": "code",
   "execution_count": 1,
   "metadata": {},
   "outputs": [],
   "source": [
    "orders = [\n",
    "    '1,2013-07-25 00:00:00.0,11599,CLOSED',\n",
    "    '2,2013-07-25 00:00:00.0,256,PENDING_PAYMENT',\n",
    "    '3,2013-07-25 00:00:00.0,12111,COMPLETE',\n",
    "    '4,2013-07-25 00:00:00.0,8827,CLOSED',\n",
    "    '5,2013-07-25 00:00:00.0,11318,COMPLETE',\n",
    "    '6,2013-07-25 00:00:00.0,7130,COMPLETE',\n",
    "    '7,2013-07-25 00:00:00.0,4530,COMPLETE',\n",
    "    '8,2013-07-25 00:00:00.0,2911,PROCESSING',\n",
    "    '9,2013-07-25 00:00:00.0,5657,PENDING_PAYMENT',\n",
    "    '10,2013-07-25 00:00:00.0,5648,PENDING_PAYMENT',\n",
    "    '11,2013-07-25 00:00:00.0,918,PAYMENT_REVIEW',\n",
    "    '12,2013-07-25 00:00:00.0,1837,CLOSED',\n",
    "    '13,2013-07-25 00:00:00.0,9149,PENDING_PAYMENT',\n",
    "    '14,2013-07-25 00:00:00.0,9842,PROCESSING',\n",
    "    '15,2013-07-25 00:00:00.0,2568,COMPLETE',\n",
    "    '16,2013-07-25 00:00:00.0,7276,PENDING_PAYMENT',\n",
    "    '17,2013-07-25 00:00:00.0,2667,COMPLETE',\n",
    "    '18,2013-07-25 00:00:00.0,1205,CLOSED',\n",
    "    '19,2013-07-25 00:00:00.0,9488,PENDING_PAYMENT',\n",
    "    '20,2013-07-25 00:00:00.0,9198,PROCESSING'\n",
    " ]"
   ]
  },
  {
   "cell_type": "code",
   "execution_count": 8,
   "metadata": {},
   "outputs": [
    {
     "ename": "AttributeError",
     "evalue": "'list' object has no attribute 'split'",
     "output_type": "error",
     "traceback": [
      "\u001b[31m---------------------------------------------------------------------------\u001b[39m",
      "\u001b[31mAttributeError\u001b[39m                            Traceback (most recent call last)",
      "\u001b[36mCell\u001b[39m\u001b[36m \u001b[39m\u001b[32mIn[8]\u001b[39m\u001b[32m, line 1\u001b[39m\n\u001b[32m----> \u001b[39m\u001b[32m1\u001b[39m \u001b[43morders\u001b[49m\u001b[43m.\u001b[49m\u001b[43msplit\u001b[49m()\n",
      "\u001b[31mAttributeError\u001b[39m: 'list' object has no attribute 'split'"
     ]
    }
   ],
   "source": [
    "orders.split()"
   ]
  },
  {
   "cell_type": "markdown",
   "metadata": {},
   "source": [
    "convert list to something else"
   ]
  },
  {
   "cell_type": "code",
   "execution_count": 9,
   "metadata": {},
   "outputs": [
    {
     "data": {
      "text/plain": [
       "'3,2013-07-25 00:00:00.0,12111,COMPLETE'"
      ]
     },
     "execution_count": 9,
     "metadata": {},
     "output_type": "execute_result"
    }
   ],
   "source": [
    "order = orders[2]\n",
    "order"
   ]
  },
  {
   "cell_type": "code",
   "execution_count": 6,
   "metadata": {},
   "outputs": [
    {
     "ename": "NameError",
     "evalue": "name 'order' is not defined",
     "output_type": "error",
     "traceback": [
      "\u001b[31m---------------------------------------------------------------------------\u001b[39m",
      "\u001b[31mNameError\u001b[39m                                 Traceback (most recent call last)",
      "\u001b[36mCell\u001b[39m\u001b[36m \u001b[39m\u001b[32mIn[6]\u001b[39m\u001b[32m, line 1\u001b[39m\n\u001b[32m----> \u001b[39m\u001b[32m1\u001b[39m \u001b[43morder\u001b[49m.split(\u001b[33m'\u001b[39m\u001b[33m,\u001b[39m\u001b[33m'\u001b[39m)[\u001b[32m3\u001b[39m]\n",
      "\u001b[31mNameError\u001b[39m: name 'order' is not defined"
     ]
    }
   ],
   "source": [
    "order.split(',')[3]"
   ]
  },
  {
   "cell_type": "code",
   "execution_count": null,
   "metadata": {},
   "outputs": [],
   "source": [
    "y =lambda order : order.split(',')[3] == 'COMPLETE'"
   ]
  },
  {
   "cell_type": "markdown",
   "metadata": {},
   "source": [
    "can be :\n",
    "y =lambda order : order.split(',')[3] == 'COMPLETE'\n",
    "still work\n",
    "\n",
    "because macam ada precedence kalau ada variable dalam lambda equal to outer(global)(out of lambda)[ expression part].....\n",
    "which means that, if ''''''' inside lambda = outer lambda '''''''\n",
    "precedence is that, it'll follow inside lambda... which mean the argument will pass to expression with ease\n",
    "nak senang kan... argument variable and expression variable digalakkan sama variable ..\n"
   ]
  },
  {
   "cell_type": "code",
   "execution_count": null,
   "metadata": {},
   "outputs": [],
   "source": [
    "y(orders[2])"
   ]
  },
  {
   "cell_type": "code",
   "execution_count": null,
   "metadata": {},
   "outputs": [],
   "source": [
    "Z =lambda order : order.split(',')[3] in ('COMPLETE' , 'CLOSED')"
   ]
  },
  {
   "cell_type": "code",
   "execution_count": null,
   "metadata": {},
   "outputs": [],
   "source": [
    "Z(orders[0])"
   ]
  },
  {
   "cell_type": "code",
   "execution_count": null,
   "metadata": {},
   "outputs": [],
   "source": [
    "filter(lambda order : order.split(',')[3] == 'COMPLETE' , orders)"
   ]
  },
  {
   "cell_type": "code",
   "execution_count": null,
   "metadata": {},
   "outputs": [],
   "source": [
    "list(filter(lambda order : order.split(',')[3] == 'COMPLETE' , orders))"
   ]
  },
  {
   "cell_type": "code",
   "execution_count": null,
   "metadata": {},
   "outputs": [],
   "source": [
    "list(filter(lambda order : order.split(',')[3] in ('COMPLETE', 'CLOSED') , orders))"
   ]
  },
  {
   "cell_type": "code",
   "execution_count": null,
   "metadata": {},
   "outputs": [],
   "source": [
    "list(map(lambda x : x.split(',')[3] ,filter(lambda order : order.split(',')[3] in ('COMPLETE', 'CLOSED') , orders)))"
   ]
  },
  {
   "cell_type": "code",
   "execution_count": null,
   "metadata": {},
   "outputs": [],
   "source": [
    "set(list(map(lambda x : x.split(',')[3] ,filter(lambda order : order.split(',')[3] in ('COMPLETE', 'CLOSED') , orders))))"
   ]
  },
  {
   "cell_type": "code",
   "execution_count": null,
   "metadata": {},
   "outputs": [],
   "source": [
    "list(map(lambda order: order.split(',')[2], \n",
    "         filter(lambda order: order.split(',')[3] in ('COMPLETE', 'CLOSED'), orders)))\n"
   ]
  },
  {
   "cell_type": "code",
   "execution_count": null,
   "metadata": {},
   "outputs": [],
   "source": [
    "set(map(lambda x : x.split(',')[3], orders ))\n"
   ]
  },
  {
   "cell_type": "code",
   "execution_count": null,
   "metadata": {},
   "outputs": [],
   "source": [
    "y = filter(lambda x : x.split(',')[1][:4]=='2013' and x.split(',')[3]=='CLOSED', orders)"
   ]
  },
  {
   "cell_type": "code",
   "execution_count": null,
   "metadata": {},
   "outputs": [],
   "source": [
    "z =list(map(lambda x :x.split(',')[3], y))"
   ]
  },
  {
   "cell_type": "code",
   "execution_count": null,
   "metadata": {},
   "outputs": [],
   "source": [
    "set(z)"
   ]
  },
  {
   "cell_type": "code",
   "execution_count": null,
   "metadata": {},
   "outputs": [],
   "source": [
    "orders = [\n",
    "    (3, '2013-07-25', '12111', 'CLOSED'),\n",
    "    (9, '2013-07-25', '2672', 'CLOSED'),\n",
    "    (15, '2013-07-25', '256', 'CLOSED'),\n",
    "]"
   ]
  },
  {
   "cell_type": "code",
   "execution_count": null,
   "metadata": {},
   "outputs": [],
   "source": [
    "sorted(orders, key=lambda x: x[2][2:3])\n"
   ]
  },
  {
   "cell_type": "code",
   "execution_count": null,
   "metadata": {},
   "outputs": [],
   "source": [
    "order = orders[1][2]"
   ]
  },
  {
   "cell_type": "code",
   "execution_count": 20,
   "metadata": {},
   "outputs": [
    {
     "ename": "ValueError",
     "evalue": "invalid literal for int() with base 10: ','",
     "output_type": "error",
     "traceback": [
      "\u001b[31m---------------------------------------------------------------------------\u001b[39m",
      "\u001b[31mValueError\u001b[39m                                Traceback (most recent call last)",
      "\u001b[36mCell\u001b[39m\u001b[36m \u001b[39m\u001b[32mIn[20]\u001b[39m\u001b[32m, line 1\u001b[39m\n\u001b[32m----> \u001b[39m\u001b[32m1\u001b[39m \u001b[38;5;28;43msorted\u001b[39;49m\u001b[43m(\u001b[49m\u001b[43morders\u001b[49m\u001b[43m,\u001b[49m\u001b[43m \u001b[49m\u001b[43mkey\u001b[49m\u001b[43m=\u001b[49m\u001b[38;5;28;43;01mlambda\u001b[39;49;00m\u001b[43m \u001b[49m\u001b[43mx\u001b[49m\u001b[43m:\u001b[49m\u001b[43m \u001b[49m\u001b[38;5;28;43mint\u001b[39;49m\u001b[43m(\u001b[49m\u001b[43mx\u001b[49m\u001b[43m[\u001b[49m\u001b[32;43m2\u001b[39;49m\u001b[43m]\u001b[49m\u001b[43m)\u001b[49m\u001b[43m)\u001b[49m\n",
      "\u001b[36mCell\u001b[39m\u001b[36m \u001b[39m\u001b[32mIn[20]\u001b[39m\u001b[32m, line 1\u001b[39m, in \u001b[36m<lambda>\u001b[39m\u001b[34m(x)\u001b[39m\n\u001b[32m----> \u001b[39m\u001b[32m1\u001b[39m \u001b[38;5;28msorted\u001b[39m(orders, key=\u001b[38;5;28;01mlambda\u001b[39;00m x: \u001b[38;5;28;43mint\u001b[39;49m\u001b[43m(\u001b[49m\u001b[43mx\u001b[49m\u001b[43m[\u001b[49m\u001b[32;43m2\u001b[39;49m\u001b[43m]\u001b[49m\u001b[43m)\u001b[49m)\n",
      "\u001b[31mValueError\u001b[39m: invalid literal for int() with base 10: ','"
     ]
    }
   ],
   "source": [
    "sorted(orders, key=lambda x: int(x[2]))"
   ]
  },
  {
   "cell_type": "code",
   "execution_count": 21,
   "metadata": {},
   "outputs": [
    {
     "data": {
      "text/plain": [
       "['2,2013-07-25 00:00:00.0,256,PENDING_PAYMENT',\n",
       " '11,2013-07-25 00:00:00.0,918,PAYMENT_REVIEW',\n",
       " '18,2013-07-25 00:00:00.0,1205,CLOSED',\n",
       " '12,2013-07-25 00:00:00.0,1837,CLOSED',\n",
       " '15,2013-07-25 00:00:00.0,2568,COMPLETE',\n",
       " '17,2013-07-25 00:00:00.0,2667,COMPLETE',\n",
       " '8,2013-07-25 00:00:00.0,2911,PROCESSING',\n",
       " '7,2013-07-25 00:00:00.0,4530,COMPLETE',\n",
       " '10,2013-07-25 00:00:00.0,5648,PENDING_PAYMENT',\n",
       " '9,2013-07-25 00:00:00.0,5657,PENDING_PAYMENT',\n",
       " '6,2013-07-25 00:00:00.0,7130,COMPLETE',\n",
       " '16,2013-07-25 00:00:00.0,7276,PENDING_PAYMENT',\n",
       " '4,2013-07-25 00:00:00.0,8827,CLOSED',\n",
       " '13,2013-07-25 00:00:00.0,9149,PENDING_PAYMENT',\n",
       " '20,2013-07-25 00:00:00.0,9198,PROCESSING',\n",
       " '19,2013-07-25 00:00:00.0,9488,PENDING_PAYMENT',\n",
       " '14,2013-07-25 00:00:00.0,9842,PROCESSING',\n",
       " '5,2013-07-25 00:00:00.0,11318,COMPLETE',\n",
       " '1,2013-07-25 00:00:00.0,11599,CLOSED',\n",
       " '3,2013-07-25 00:00:00.0,12111,COMPLETE']"
      ]
     },
     "execution_count": 21,
     "metadata": {},
     "output_type": "execute_result"
    }
   ],
   "source": [
    "sorted(orders, key =lambda x : int(x.split(',')[2]))"
   ]
  },
  {
   "cell_type": "code",
   "execution_count": null,
   "metadata": {},
   "outputs": [
    {
     "ename": "AttributeError",
     "evalue": "'int' object has no attribute 'split'",
     "output_type": "error",
     "traceback": [
      "\u001b[31m---------------------------------------------------------------------------\u001b[39m",
      "\u001b[31mAttributeError\u001b[39m                            Traceback (most recent call last)",
      "\u001b[36mCell\u001b[39m\u001b[36m \u001b[39m\u001b[32mIn[18]\u001b[39m\u001b[32m, line 1\u001b[39m\n\u001b[32m----> \u001b[39m\u001b[32m1\u001b[39m \u001b[43my\u001b[49m\u001b[43m(\u001b[49m\u001b[32;43m2\u001b[39;49m\u001b[43m)\u001b[49m\n",
      "\u001b[36mCell\u001b[39m\u001b[36m \u001b[39m\u001b[32mIn[14]\u001b[39m\u001b[32m, line 1\u001b[39m, in \u001b[36m<lambda>\u001b[39m\u001b[34m(x)\u001b[39m\n\u001b[32m----> \u001b[39m\u001b[32m1\u001b[39m y =\u001b[38;5;28;01mlambda\u001b[39;00m x : \u001b[38;5;28mint\u001b[39m(\u001b[43mx\u001b[49m\u001b[43m.\u001b[49m\u001b[43msplit\u001b[49m(\u001b[33m'\u001b[39m\u001b[33m,\u001b[39m\u001b[33m'\u001b[39m)[\u001b[32m2\u001b[39m])\n",
      "\u001b[31mAttributeError\u001b[39m: 'int' object has no attribute 'split'"
     ]
    }
   ],
   "source": []
  }
 ],
 "metadata": {
  "kernelspec": {
   "display_name": "pr-venv",
   "language": "python",
   "name": "python3"
  },
  "language_info": {
   "codemirror_mode": {
    "name": "ipython",
    "version": 3
   },
   "file_extension": ".py",
   "mimetype": "text/x-python",
   "name": "python",
   "nbconvert_exporter": "python",
   "pygments_lexer": "ipython3",
   "version": "3.13.2"
  }
 },
 "nbformat": 4,
 "nbformat_minor": 2
}
